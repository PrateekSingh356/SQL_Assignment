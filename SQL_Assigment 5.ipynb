{
 "cells": [
  {
   "cell_type": "markdown",
   "id": "0e7d3d2a",
   "metadata": {},
   "source": [
    "# Assignment_5"
   ]
  },
  {
   "cell_type": "markdown",
   "id": "bd474526",
   "metadata": {},
   "source": [
    "# Q-1. Write an SQL query to print details of workers excluding first names, “Vipul” and “Satish” from Worker table."
   ]
  },
  {
   "cell_type": "markdown",
   "id": "2051ddf4",
   "metadata": {},
   "source": [
    "use workDatabase;\n",
    "Select * from Worker where FIRST_NAME not in ('Vipul','Satish');"
   ]
  },
  {
   "cell_type": "markdown",
   "id": "a48ea4a8",
   "metadata": {},
   "source": [
    "# Q-2. Write an SQL query to print details of the Workers whose FIRST_NAME ends with ‘h’ and contains six alphabets"
   ]
  },
  {
   "cell_type": "markdown",
   "id": "07ee80dd",
   "metadata": {},
   "source": [
    "Select * from Worker where FIRST_NAME like '_h';"
   ]
  },
  {
   "cell_type": "markdown",
   "id": "c36d6e84",
   "metadata": {},
   "source": [
    "# Q-3. Write a query to validate Email of Employee."
   ]
  },
  {
   "cell_type": "markdown",
   "id": "f0ec053c",
   "metadata": {},
   "source": [
    "SELECT * FROM worker WHERE emailid NOT LIKE '[0-9a-zA-Z]%@%.%'"
   ]
  },
  {
   "cell_type": "code",
   "execution_count": null,
   "id": "fd6e1c16",
   "metadata": {},
   "outputs": [],
   "source": []
  }
 ],
 "metadata": {
  "kernelspec": {
   "display_name": "Python 3 (ipykernel)",
   "language": "python",
   "name": "python3"
  },
  "language_info": {
   "codemirror_mode": {
    "name": "ipython",
    "version": 3
   },
   "file_extension": ".py",
   "mimetype": "text/x-python",
   "name": "python",
   "nbconvert_exporter": "python",
   "pygments_lexer": "ipython3",
   "version": "3.9.2"
  }
 },
 "nbformat": 4,
 "nbformat_minor": 5
}
