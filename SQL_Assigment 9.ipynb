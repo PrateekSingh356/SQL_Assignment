{
 "cells": [
  {
   "cell_type": "markdown",
   "id": "0e7d3d2a",
   "metadata": {},
   "source": [
    "# Assignment_9"
   ]
  },
  {
   "cell_type": "markdown",
   "id": "bd474526",
   "metadata": {},
   "source": [
    "# Q-17. Write an SQL query to show the top n (say 10) records of a table."
   ]
  },
  {
   "cell_type": "markdown",
   "id": "ddfc3ff0",
   "metadata": {},
   "source": [
    "SELECT * FROM WORKER ORDER BY SALARY DESC LIMIT 10;"
   ]
  },
  {
   "cell_type": "markdown",
   "id": "dd36b097",
   "metadata": {},
   "source": [
    "# Q-18. Write an SQL query to determine the nth (say n=5) highest salary from a table."
   ]
  },
  {
   "cell_type": "markdown",
   "id": "9a9993fd",
   "metadata": {},
   "source": [
    "SELECT Salary FROM Worker ORDER BY Salary DESC LIMIT 5,1; where n = 5"
   ]
  }
 ],
 "metadata": {
  "kernelspec": {
   "display_name": "Python 3 (ipykernel)",
   "language": "python",
   "name": "python3"
  },
  "language_info": {
   "codemirror_mode": {
    "name": "ipython",
    "version": 3
   },
   "file_extension": ".py",
   "mimetype": "text/x-python",
   "name": "python",
   "nbconvert_exporter": "python",
   "pygments_lexer": "ipython3",
   "version": "3.9.2"
  }
 },
 "nbformat": 4,
 "nbformat_minor": 5
}
