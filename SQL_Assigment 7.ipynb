{
 "cells": [
  {
   "cell_type": "markdown",
   "id": "0e7d3d2a",
   "metadata": {},
   "source": [
    "# Assignment_7"
   ]
  },
  {
   "cell_type": "markdown",
   "id": "bd474526",
   "metadata": {},
   "source": [
    "# Q-13. Write an SQL query to show only odd rows from a table."
   ]
  },
  {
   "cell_type": "markdown",
   "id": "2051ddf4",
   "metadata": {},
   "source": [
    "use workDatabase;\n",
    "SELECT * FROM Worker WHERE MOD (empno, 2) <> 0;"
   ]
  },
  {
   "cell_type": "markdown",
   "id": "a48ea4a8",
   "metadata": {},
   "source": [
    "# Q-14. Write an SQL query to clone a new table from another table."
   ]
  },
  {
   "cell_type": "markdown",
   "id": "07ee80dd",
   "metadata": {},
   "source": [
    "SELECT gender, department, COUNT() FROM worker GROUP BY gender, department HAVING COUNT() > 1;"
   ]
  },
  {
   "cell_type": "markdown",
   "id": "c36d6e84",
   "metadata": {},
   "source": [
    "# Q-3. How to remove duplicate rows from worker table."
   ]
  },
  {
   "cell_type": "raw",
   "id": "f1ded033",
   "metadata": {},
   "source": [
    "DELETE c1 FROM worker c1\n",
    "INNER JOIN worker c2\n",
    "WHERE\n",
    "c1.salary > c2.salary AND\n",
    "c1.LAST_NAME = c2.LAST_NAME"
   ]
  },
  {
   "cell_type": "code",
   "execution_count": null,
   "id": "fd6e1c16",
   "metadata": {},
   "outputs": [],
   "source": []
  }
 ],
 "metadata": {
  "kernelspec": {
   "display_name": "Python 3 (ipykernel)",
   "language": "python",
   "name": "python3"
  },
  "language_info": {
   "codemirror_mode": {
    "name": "ipython",
    "version": 3
   },
   "file_extension": ".py",
   "mimetype": "text/x-python",
   "name": "python",
   "nbconvert_exporter": "python",
   "pygments_lexer": "ipython3",
   "version": "3.9.2"
  }
 },
 "nbformat": 4,
 "nbformat_minor": 5
}
