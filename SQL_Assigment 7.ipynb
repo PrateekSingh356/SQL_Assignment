{
 "cells": [
  {
   "cell_type": "markdown",
   "id": "0e7d3d2a",
   "metadata": {},
   "source": [
    "# Assignment_7"
   ]
  },
  {
   "cell_type": "markdown",
   "id": "bd474526",
   "metadata": {},
   "source": [
    "# Q-13. Write an SQL query to show only odd rows from a table."
   ]
  },
  {
   "cell_type": "markdown",
   "id": "2051ddf4",
   "metadata": {},
   "source": [
    "use workDatabase;\n",
    "SELECT * FROM Worker WHERE MOD (empno, 2) <> 0;"
   ]
  },
  {
   "cell_type": "markdown",
   "id": "a48ea4a8",
   "metadata": {},
   "source": [
    "# Q-14. Write an SQL query to clone a new table from another table."
   ]
  },
  {
   "cell_type": "raw",
   "id": "e6f5f176",
   "metadata": {},
   "source": [
    "select * into employee1 from worker;\n",
    "\n",
    "select * from employee1;"
   ]
  }
 ],
 "metadata": {
  "kernelspec": {
   "display_name": "Python 3 (ipykernel)",
   "language": "python",
   "name": "python3"
  },
  "language_info": {
   "codemirror_mode": {
    "name": "ipython",
    "version": 3
   },
   "file_extension": ".py",
   "mimetype": "text/x-python",
   "name": "python",
   "nbconvert_exporter": "python",
   "pygments_lexer": "ipython3",
   "version": "3.9.2"
  }
 },
 "nbformat": 4,
 "nbformat_minor": 5
}
