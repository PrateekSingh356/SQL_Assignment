{
 "cells": [
  {
   "cell_type": "markdown",
   "id": "0e7d3d2a",
   "metadata": {},
   "source": [
    "# Assignment_8"
   ]
  },
  {
   "cell_type": "markdown",
   "id": "bd474526",
   "metadata": {},
   "source": [
    "# Q-15. Write an SQL query to fetch intersecting records of two tables."
   ]
  },
  {
   "cell_type": "raw",
   "id": "dfe103a8",
   "metadata": {},
   "source": [
    "select\n",
    "worker.empno,\n",
    "worker.first_name,\n",
    "workerclone.empno,\n",
    "workerclone.first_name\n",
    "from worker\n",
    "inner join\n",
    "workerclone on workerclone.name = worker.name"
   ]
  },
  {
   "cell_type": "markdown",
   "id": "a48ea4a8",
   "metadata": {},
   "source": [
    "# Q-16. Write an SQL query to show records from one table that another table does not have."
   ]
  },
  {
   "cell_type": "raw",
   "id": "1713f906",
   "metadata": {},
   "source": [
    "SELECT w.empno,  w.first_name , wc.empno,  wc.first_name\n",
    "FROM workerclone w\n",
    "LEFT JOIN worker wc\n",
    "ON w.first_name = wc.first_name;"
   ]
  },
  {
   "cell_type": "code",
   "execution_count": null,
   "id": "69a5d48d",
   "metadata": {},
   "outputs": [],
   "source": []
  }
 ],
 "metadata": {
  "kernelspec": {
   "display_name": "Python 3 (ipykernel)",
   "language": "python",
   "name": "python3"
  },
  "language_info": {
   "codemirror_mode": {
    "name": "ipython",
    "version": 3
   },
   "file_extension": ".py",
   "mimetype": "text/x-python",
   "name": "python",
   "nbconvert_exporter": "python",
   "pygments_lexer": "ipython3",
   "version": "3.9.2"
  }
 },
 "nbformat": 4,
 "nbformat_minor": 5
}
