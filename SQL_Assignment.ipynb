{
 "cells": [
  {
   "cell_type": "markdown",
   "id": "ec5f2c6d",
   "metadata": {},
   "source": [
    "# Assignment_1"
   ]
  },
  {
   "cell_type": "markdown",
   "id": "bc726c4d",
   "metadata": {},
   "source": [
    "# Q-1. Write an SQL query to fetch “FIRST_NAME” from Worker table using the alias name as ."
   ]
  },
  {
   "cell_type": "markdown",
   "id": "115066e8",
   "metadata": {},
   "source": [
    "use workDatabase;\n",
    "SELECT FIRST_NAME AS WORKER_NAME FROM WORKER;"
   ]
  },
  {
   "cell_type": "markdown",
   "id": "f4edd94d",
   "metadata": {},
   "source": [
    "# Q-2. Write an SQL query to fetch unique values of DEPARTMENT from Worker table."
   ]
  },
  {
   "cell_type": "markdown",
   "id": "57d6c2c9",
   "metadata": {},
   "source": [
    "SELECT UNIQUE DEPARTMENT FROM WORKER;"
   ]
  },
  {
   "cell_type": "markdown",
   "id": "51cde012",
   "metadata": {},
   "source": [
    "# Q-3. Write an SQL query to show the last 5 record from a table."
   ]
  },
  {
   "cell_type": "code",
   "execution_count": null,
   "id": "5b62ab1a",
   "metadata": {},
   "outputs": [],
   "source": [
    "SELECT * FROM WORKER;"
   ]
  }
 ],
 "metadata": {
  "kernelspec": {
   "display_name": "Python 3 (ipykernel)",
   "language": "python",
   "name": "python3"
  },
  "language_info": {
   "codemirror_mode": {
    "name": "ipython",
    "version": 3
   },
   "file_extension": ".py",
   "mimetype": "text/x-python",
   "name": "python",
   "nbconvert_exporter": "python",
   "pygments_lexer": "ipython3",
   "version": "3.9.2"
  }
 },
 "nbformat": 4,
 "nbformat_minor": 5
}
