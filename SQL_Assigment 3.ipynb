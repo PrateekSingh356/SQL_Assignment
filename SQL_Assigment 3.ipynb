{
 "cells": [
  {
   "cell_type": "markdown",
   "id": "0e7d3d2a",
   "metadata": {},
   "source": [
    "# Assignment_3"
   ]
  },
  {
   "cell_type": "markdown",
   "id": "bd474526",
   "metadata": {},
   "source": [
    "# Q-1. Write an SQL query to print the FIRST_NAME from Worker table after removing white spaces from the right side"
   ]
  },
  {
   "cell_type": "markdown",
   "id": "2051ddf4",
   "metadata": {},
   "source": [
    "use workDatabase;\n",
    "SELECT RTRIM(FIRST_NAME) FROM WORKER;"
   ]
  },
  {
   "cell_type": "markdown",
   "id": "a48ea4a8",
   "metadata": {},
   "source": [
    "# Q-2. Write an SQL query that fetches the unique values of DEPARTMENT from Worker table and prints its length."
   ]
  },
  {
   "cell_type": "markdown",
   "id": "07ee80dd",
   "metadata": {},
   "source": [
    "SELECT DISTINCT DEPARTMENT, LENGTH(DEPARTMENT) AS departmentNameLength FROM worker;"
   ]
  },
  {
   "cell_type": "markdown",
   "id": "c36d6e84",
   "metadata": {},
   "source": [
    "# Q-3. Write an SQL query to fetch nth max salaries from a table."
   ]
  },
  {
   "cell_type": "markdown",
   "id": "f0ec053c",
   "metadata": {},
   "source": [
    "select salary from employee order by salary DESC limit 5,1;"
   ]
  },
  {
   "cell_type": "code",
   "execution_count": null,
   "id": "fd6e1c16",
   "metadata": {},
   "outputs": [],
   "source": []
  }
 ],
 "metadata": {
  "kernelspec": {
   "display_name": "Python 3 (ipykernel)",
   "language": "python",
   "name": "python3"
  },
  "language_info": {
   "codemirror_mode": {
    "name": "ipython",
    "version": 3
   },
   "file_extension": ".py",
   "mimetype": "text/x-python",
   "name": "python",
   "nbconvert_exporter": "python",
   "pygments_lexer": "ipython3",
   "version": "3.9.2"
  }
 },
 "nbformat": 4,
 "nbformat_minor": 5
}
