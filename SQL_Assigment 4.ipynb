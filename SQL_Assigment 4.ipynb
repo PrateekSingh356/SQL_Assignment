{
 "cells": [
  {
   "cell_type": "markdown",
   "id": "0e7d3d2a",
   "metadata": {},
   "source": [
    "# Assignment_4"
   ]
  },
  {
   "cell_type": "markdown",
   "id": "bd474526",
   "metadata": {},
   "source": [
    "# Q-1. Write an SQL query to print the FIRST_NAME from Worker table after replacing ‘a’ with ‘A’."
   ]
  },
  {
   "cell_type": "markdown",
   "id": "2051ddf4",
   "metadata": {},
   "source": [
    "use workDatabase;\n",
    "select replace(first_name,\"a\",\"A\") from worker;"
   ]
  },
  {
   "cell_type": "markdown",
   "id": "a48ea4a8",
   "metadata": {},
   "source": [
    "# Q-2. Write an SQL query to print all Worker details from the Worker table order by FIRST_NAME Ascending and DEPARTMENT Descending.¶"
   ]
  },
  {
   "cell_type": "markdown",
   "id": "07ee80dd",
   "metadata": {},
   "source": [
    "select * from worker order by first_name ASC;"
   ]
  },
  {
   "cell_type": "markdown",
   "id": "a28946ee",
   "metadata": {},
   "source": [
    "select * from worker order by department DESC;"
   ]
  },
  {
   "cell_type": "markdown",
   "id": "c36d6e84",
   "metadata": {},
   "source": [
    "# Q-3. Write an SQL query to fetch the names of workers who earn the highest salary."
   ]
  },
  {
   "cell_type": "markdown",
   "id": "f0ec053c",
   "metadata": {},
   "source": [
    "SELECT FIRST_NAME, SALARY from Worker WHERE SALARY=(SELECT max(SALARY) from Worker);"
   ]
  },
  {
   "cell_type": "code",
   "execution_count": null,
   "id": "fd6e1c16",
   "metadata": {},
   "outputs": [],
   "source": []
  }
 ],
 "metadata": {
  "kernelspec": {
   "display_name": "Python 3 (ipykernel)",
   "language": "python",
   "name": "python3"
  },
  "language_info": {
   "codemirror_mode": {
    "name": "ipython",
    "version": 3
   },
   "file_extension": ".py",
   "mimetype": "text/x-python",
   "name": "python",
   "nbconvert_exporter": "python",
   "pygments_lexer": "ipython3",
   "version": "3.9.2"
  }
 },
 "nbformat": 4,
 "nbformat_minor": 5
}
